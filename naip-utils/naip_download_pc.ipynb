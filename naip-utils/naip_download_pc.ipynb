{
 "cells": [
  {
   "cell_type": "code",
   "execution_count": 1,
   "id": "256da363-a549-4c9d-84c4-3829fe7fd80d",
   "metadata": {},
   "outputs": [],
   "source": [
    "import os\n",
    "from os import makedirs, path as op\n",
    "import json\n",
    "from typing import Collection, Tuple \n",
    "from pystac_client import Client\n",
    "import planetary_computer as pc\n",
    "from rio_tiler.io import COGReader\n",
    "from shapely.geometry import shape"
   ]
  },
  {
   "cell_type": "code",
   "execution_count": 2,
   "id": "e3860bbd-3b5b-4aab-bced-c9e5fb4536e0",
   "metadata": {},
   "outputs": [],
   "source": [
    "# !pip install rio_tiler -U"
   ]
  },
  {
   "cell_type": "code",
   "execution_count": 3,
   "id": "a665d23a-1ba3-4a4a-860d-955830756b8d",
   "metadata": {},
   "outputs": [],
   "source": [
    "def download_NAIP(item, fn, area_of_interest):\n",
    "    \"\"\"\n",
    "    Download NAIP imagery from Planetary Computer\n",
    "    \n",
    "    Parameters:\n",
    "    ___\n",
    "\n",
    "    inputs:\n",
    "        item: specific item in the STAC collection,\n",
    "        fn: given file name\n",
    "        area_of_interest: geometry of the AOI\n",
    "    \n",
    "    Returns:\n",
    "       (None): writen COG of NAIP imagery that intersect with the given AOI\n",
    "    \"\"\"\n",
    "    print(item.datetime)\n",
    "    href = pc.sign(item.assets[\"image\"].href)\n",
    "    with COGReader(href) as cog:\n",
    "        data = cog.feature(area_of_interest, max_size=None, indexes=(1, 2, 3, 4))\n",
    "    \n",
    "    with open(fn, \"wb\") as f:\n",
    "        img = data.render(img_format=\"GTiff\", add_mask=False)\n",
    "        f.write(img)"
   ]
  },
  {
   "cell_type": "code",
   "execution_count": 4,
   "id": "9cefa6db-a896-4ad7-bfb1-46ea1c9d606d",
   "metadata": {},
   "outputs": [],
   "source": [
    "def main(aoi, date_range, out_dir):\n",
    "    \n",
    "    \"\"\"\n",
    "    Download NAIP imagery from Planetary Computer\n",
    "    \n",
    "    Parameters:\n",
    "    ___\n",
    "\n",
    "    inputs:\n",
    "        aoi: the path to the aoi,\n",
    "        date_range: given date range to download images, e.g. 2010-01-01/2021-12-01\n",
    "        out_dir: given output direct to save imagery\n",
    "    \n",
    "    Returns:\n",
    "       (None): all writen COG of NAIP imagery that intersect with the given AOIs\n",
    "    \"\"\"\n",
    "        \n",
    "    catelog = Client.open(\"https://planetarycomputer.microsoft.com/api/stac/v1\")\n",
    "    #read in aoi\n",
    "    with open(aoi) as f:\n",
    "        feature = json.load(f)[\"features\"]\n",
    "        # assuming this is only one geomery feature of an bounding box\n",
    "        area_of_interest = feature[0][\"geometry\"]\n",
    "    search_imagery = catelog.search(\n",
    "        collections=[\"naip\"], intersects=area_of_interest, datetime=date_range\n",
    "    )\n",
    "    items = list(search_imagery.get_items())\n",
    "    print(f\"{len(items)} items found in the {date_range} range for {aoi}!\")\n",
    "    for item in items:\n",
    "        if not op.exists(out_dir):\n",
    "            makedirs(out_dir)\n",
    "        fn = f\"{out_dir}/{str(item.datetime)[:10]}_naip_{aoi}.tif\"\n",
    "        download_NAIP(item, fn, area_of_interest)\n",
    " "
   ]
  },
  {
   "cell_type": "code",
   "execution_count": 5,
   "id": "2ca669bd-3d5b-496b-812f-74b07f6aa723",
   "metadata": {},
   "outputs": [],
   "source": [
    "aois = [\"aoi0_bounds.geojson\", \"aoi1_bounds.geojson\", \"aoi2_bounds.geojson\"]"
   ]
  },
  {
   "cell_type": "code",
   "execution_count": 21,
   "id": "d61764c7-26fd-4564-b8db-5cd6d1168d80",
   "metadata": {},
   "outputs": [],
   "source": [
    "date_range=\"2010-01-01/2021-12-01\""
   ]
  },
  {
   "cell_type": "code",
   "execution_count": 22,
   "id": "bae88e20-21ff-47ef-82a2-4342cd903800",
   "metadata": {},
   "outputs": [
    {
     "name": "stdout",
     "output_type": "stream",
     "text": [
      "4 items found in the 2010-01-01/2021-12-01 range for aoi0_bounds.geojson!\n",
      "2018-07-06 00:00:00+00:00\n",
      "2016-08-03 00:00:00+00:00\n",
      "2014-06-28 00:00:00+00:00\n",
      "2012-06-29 00:00:00+00:00\n",
      "8 items found in the 2010-01-01/2021-12-01 range for aoi1_bounds.geojson!\n",
      "2018-07-07 00:00:00+00:00\n",
      "2018-07-07 00:00:00+00:00\n",
      "2016-08-03 00:00:00+00:00\n",
      "2016-08-03 00:00:00+00:00\n",
      "2014-06-28 00:00:00+00:00\n",
      "2014-06-28 00:00:00+00:00\n",
      "2012-07-02 00:00:00+00:00\n",
      "2012-06-29 00:00:00+00:00\n",
      "4 items found in the 2010-01-01/2021-12-01 range for aoi2_bounds.geojson!\n",
      "2018-07-07 00:00:00+00:00\n",
      "2016-08-03 00:00:00+00:00\n",
      "2014-06-28 00:00:00+00:00\n",
      "2012-06-29 00:00:00+00:00\n"
     ]
    }
   ],
   "source": [
    "out_dir=\"naip_downloaded_20211020\"\n",
    "for aoi in aois:\n",
    "    main(aoi, date_range, out_dir)"
   ]
  },
  {
   "cell_type": "code",
   "execution_count": null,
   "id": "71612f0f-5600-4c6e-9256-7c9f57e9a7ea",
   "metadata": {},
   "outputs": [],
   "source": []
  }
 ],
 "metadata": {
  "kernelspec": {
   "display_name": "Python 3 (ipykernel)",
   "language": "python",
   "name": "python3"
  },
  "language_info": {
   "codemirror_mode": {
    "name": "ipython",
    "version": 3
   },
   "file_extension": ".py",
   "mimetype": "text/x-python",
   "name": "python",
   "nbconvert_exporter": "python",
   "pygments_lexer": "ipython3",
   "version": "3.9.10"
  }
 },
 "nbformat": 4,
 "nbformat_minor": 5
}
