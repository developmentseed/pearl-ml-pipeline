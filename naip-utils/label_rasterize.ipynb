{
 "cells": [
  {
   "cell_type": "markdown",
   "metadata": {},
   "source": [
    "# Workflow\n",
    "- Get NAIP imagery from public Azure Blob (see notebook naip_download_pc.ipynb)\n",
    "- Rasterize label data based on the NAIP image tile\n",
    "- Create Image and Label fame name and Index match\n",
    "- Store info in CSV"
   ]
  },
  {
   "cell_type": "code",
   "execution_count": null,
   "metadata": {},
   "outputs": [],
   "source": [
    "import os\n",
    "import glob\n",
    "from os import makedirs, path as op \n",
    "import geopandas as gpd\n",
    "from subprocess import call\n",
    "from rasterio.features import geometry_mask\n",
    "import rasterio\n",
    "import numpy as np\n"
   ]
  },
  {
   "cell_type": "code",
   "execution_count": null,
   "metadata": {},
   "outputs": [],
   "source": [
    "def fix_id(geojson, class_id, keyword, rankid):\n",
    "    \"\"\"adding class id to the label geojson and update output directory for new label\"\"\"\n",
    "    gdf = gpd.read_file(geojson)\n",
    "    gdf['class_id'] = int(class_id)\n",
    "    outdir = f\"../label_af_download/updated_labels_{keyword}\"\n",
    "    if not op.exists(outdir):\n",
    "        makedirs(outdir)\n",
    "    basename = op.basename(geojson)\n",
    "    gdf.to_file(f\"{outdir}/{rankid}_{basename}\", driver=\"GeoJSON\")\n",
    "    return outdir"
   ]
  },
  {
   "cell_type": "code",
   "execution_count": null,
   "metadata": {},
   "outputs": [],
   "source": [
    "def get_key(val, main_dict):\n",
    "    \"\"\"to fetch key of label order based on the label class name\"\"\"\n",
    "    for key, value in main_dict.items():\n",
    "         if val == value:\n",
    "             return key\n",
    " \n",
    "    return \"key doesn't exist\""
   ]
  },
  {
   "cell_type": "code",
   "execution_count": null,
   "metadata": {},
   "outputs": [],
   "source": [
    "def burn_base(raster, aoi, outfile):\n",
    "    \"\"\"rasterize aoi bounds\"\"\"\n",
    "    gdf_aoi = gpd.read_file(aoi)\n",
    "    with rasterio.open(raster, 'r') as src:\n",
    "        profile = src.profile\n",
    "        profile.update(\n",
    "            dtype=rasterio.uint8, \n",
    "            count=1,\n",
    "            compress='lzw'\n",
    "        )\n",
    "        fsrc = src.read()\n",
    "        outshape = (fsrc.shape[1], fsrc.shape[2])\n",
    "        transform_out = src.transform\n",
    "        out_arr = np.zeros(outshape)\n",
    "  \n",
    "        out_label=geometry_mask(gdf_aoi.geometry,\n",
    "                out_shape=outshape, \n",
    "                transform=transform_out, \n",
    "                all_touched=True,\n",
    "                invert=True\n",
    "            )\n",
    "        with rasterio.open(outfile, \"w\", **profile) as dst:\n",
    "            dst.write(out_label,1)\n",
    "    return outfile"
   ]
  },
  {
   "cell_type": "code",
   "execution_count": null,
   "metadata": {},
   "outputs": [],
   "source": [
    "def burn_labels(base_mask, label_ls, outfile):\n",
    "    \"\"\"burn labels based on the priority order\"\"\"\n",
    "    with rasterio.open(base_mask, 'r') as src:\n",
    "        profile = src.profile\n",
    "        profile.update(\n",
    "            dtype=rasterio.uint8, \n",
    "            count=1,\n",
    "            compress='lzw'\n",
    "        )\n",
    "        fsrc = src.read_masks(1)\n",
    "        outshape = fsrc.shape\n",
    "        print(outshape)\n",
    "        transform_out = src.transform\n",
    "        labels_arr=np.zeros(outshape)\n",
    "        for geojson in label_ls:\n",
    "            print(geojson)\n",
    "            gdf= gpd.read_file(geojson)\n",
    "            print(gdf.crs)\n",
    "            print(len(gdf.geometry))\n",
    "            print(gdf[\"class_id\"].unique()[0])\n",
    "            mask = geometry_mask(gdf.geometry, out_shape=outshape, transform=transform_out, all_touched=True, invert=True)\n",
    "            print(np.unique(mask))\n",
    "            update_mask = np.where(mask==True)\n",
    "            labels_arr[update_mask] = gdf[\"class_id\"].unique()[0]\n",
    "            print(np.unique(labels_arr))\n",
    "        with rasterio.open(outfile, \"w\", **profile) as dst:\n",
    "            dst.write(labels_arr,1)"
   ]
  },
  {
   "cell_type": "code",
   "execution_count": null,
   "metadata": {},
   "outputs": [],
   "source": [
    "aoi0 = \"../label_af_download/aoi_detroit_labeled/aoi0_bounds.geojson\"\n",
    "aoi1 = \"../label_af_download/aoi_detroit_labeled/aoi1_bounds.geojson\"\n",
    "aoi2 = \"../label_af_download/aoi_detroit_labeled/aoi2_bounds.geojson\"\n",
    "label_path = \"../label_af_download/aoi_detroit_labeled\"\n",
    "aoi0_naip = \"../label_af_download/downloaded_naip_aois/2018-07-06_naip_aoi0_bounds.tif\"\n",
    "aoi1_naip = \"../label_af_download/downloaded_naip_aois/2012-06-29_naip_aoi1_bounds.tif\"\n",
    "aoi2_naip = \"../label_af_download/downloaded_naip_aois/2016-08-03_naip_aoi2_bounds.tif\"\n"
   ]
  },
  {
   "cell_type": "markdown",
   "metadata": {},
   "source": [
    "### Raterize LULC Labels\n",
    "The land classes should be burn in this order (1-7)\n",
    "1 on the bottom and 7 burn the last, so it's on the top\n",
    "\n",
    "7. tree_canopy\n",
    "6. building\n",
    "5. water\n",
    "4. bare_soil\n",
    "3. roads_railroads\n",
    "2. grass_shrub\n",
    "1. other_impervious\n",
    "\n",
    "Though the real class IDs are:\n",
    "\n",
    "- 0: Nodata (use the aoi)\n",
    "- 1: Tree Canopy, \n",
    "- 2: Grass/Shrub, \n",
    "- 3: bare soil, \n",
    "- 4: water, \n",
    "- 5: buildings, \n",
    "- 6:roads/railroads, \n",
    "- 7:other impervious"
   ]
  },
  {
   "cell_type": "code",
   "execution_count": null,
   "metadata": {},
   "outputs": [],
   "source": [
    "labels_classes = {\n",
    "    \"impervious\": 7,\n",
    "    \"building\": 5, \n",
    "    \"shrub\":2, \n",
    "    \"canopy\":1,\n",
    "    \"railroads\": 6, \n",
    "    \"soil\": 3, \n",
    "    \"water\": 4\n",
    "}"
   ]
  },
  {
   "cell_type": "code",
   "execution_count": null,
   "metadata": {},
   "outputs": [],
   "source": [
    "burn_order ={\n",
    "1: \"impervious\", \n",
    "2: \"shrub\",  \n",
    "3: \"railroads\",\n",
    "4:  \"soil\",\n",
    "5:  \"water\",\n",
    "6: \"building\",\n",
    "7: \"canopy\",\n",
    "}"
   ]
  },
  {
   "cell_type": "code",
   "execution_count": null,
   "metadata": {},
   "outputs": [],
   "source": [
    "# aoi0_labels = glob.glob(label_path+\"/aoi_0/*.geojson\")\n",
    "aoi0_labels = glob.glob(label_path+\"/aoi_0/*.geojson\")\n",
    "for label in aoi0_labels:\n",
    "    basename=op.basename(label)\n",
    "    filezero = op.splitext(basename)[0]\n",
    "    keyword = filezero.split(\"_\")[-1]\n",
    "    class_id = labels_classes[keyword]\n",
    "    rankid = get_key(keyword, burn_order)\n",
    "    print(keyword, class_id)\n",
    "    out_dir_or = fix_id(label, class_id, \"aoi0\", rankid)\n",
    "    print(out_dir_or)\n",
    "# out= '/'.join(subdir for subdir in out_dir_or.split(\"/\")[:-1])\n",
    "# print(out)\n",
    "sorted_labels = sorted(glob.glob(out_dir_or + \"/*.geojson\"))\n",
    "print(sorted_labels)\n",
    "mask_path = burn_base(aoi0_naip, aoi0, \"../label_af_download/aoi_detroit_labeled/mark0.tif\")\n",
    "burn_labels(mask_path, sorted_labels, \"../label_af_download/aoi_detroit_labeled/aoi0_labels.tif\")\n",
    "# label_array(aoi0_labels, aoi0_naip, labels_classes, burn_order, \"aoi0\", aoi0, \"../label_af_download/aoi_detroit_labeled/mark0.tif\", \"../label_af_download/aoi_detroit_labeled/aoi0_labels.tif\")"
   ]
  },
  {
   "cell_type": "code",
   "execution_count": null,
   "metadata": {},
   "outputs": [],
   "source": [
    "aoi1_labels = glob.glob(label_path+\"/aoi_1/*.geojson\")\n",
    "for label in aoi1_labels:\n",
    "    basename=op.basename(label)\n",
    "    filezero = op.splitext(basename)[0]\n",
    "    keyword = filezero.split(\"_\")[-1]\n",
    "    class_id = labels_classes[keyword]\n",
    "    rankid = get_key(keyword, burn_order)\n",
    "    print(keyword, class_id)\n",
    "    out_dir_or = fix_id(label, class_id, \"aoi1\", rankid)\n",
    "    print(out_dir_or)\n",
    "# out= '/'.join(subdir for subdir in out_dir_or.split(\"/\")[:-1])\n",
    "# print(out)\n",
    "sorted_labels = sorted(glob.glob(out_dir_or + \"/*.geojson\"))\n",
    "print(sorted_labels)\n",
    "mask_path = burn_base(aoi1_naip, aoi1, \"../label_af_download/aoi_detroit_labeled/mark1.tif\")\n",
    "burn_labels(mask_path, sorted_labels, \"../label_af_download/aoi_detroit_labeled/aoi1_labels.tif\")"
   ]
  },
  {
   "cell_type": "code",
   "execution_count": null,
   "metadata": {},
   "outputs": [],
   "source": [
    "aoi2_labels = glob.glob(label_path+\"/aoi_2/*.geojson\")\n",
    "for label in aoi2_labels:\n",
    "    basename=op.basename(label)\n",
    "    filezero = op.splitext(basename)[0]\n",
    "    keyword = filezero.split(\"_\")[-1]\n",
    "    class_id = labels_classes[keyword]\n",
    "    rankid = get_key(keyword, burn_order)\n",
    "    print(keyword, class_id)\n",
    "    out_dir_or = fix_id(label, class_id, \"aoi2\", rankid)\n",
    "    print(out_dir_or)\n",
    "# out= '/'.join(subdir for subdir in out_dir_or.split(\"/\")[:-1])\n",
    "# print(out)\n",
    "sorted_labels = sorted(glob.glob(out_dir_or + \"/*.geojson\"))\n",
    "print(sorted_labels)\n",
    "mask_path = burn_base(aoi2_naip, aoi2, \"../label_af_download/aoi_detroit_labeled/mark2.tif\")\n",
    "burn_labels(mask_path, sorted_labels, \"../label_af_download/aoi_detroit_labeled/aoi2_labels.tif\")"
   ]
  },
  {
   "cell_type": "code",
   "execution_count": 42,
   "metadata": {},
   "outputs": [],
   "source": [
    "import pandas as pd"
   ]
  },
  {
   "cell_type": "code",
   "execution_count": 53,
   "metadata": {},
   "outputs": [],
   "source": [
    "df_train = pd.DataFrame()\n",
    "df_val = pd.DataFrame()\n",
    "df_test = pd.DataFrame()\n",
    "label_path = \"../label_af_download/trainingdataset-data-team_aois/labels\"\n",
    "image_path = \"../label_af_download/trainingdataset-data-team_aois/naips\""
   ]
  },
  {
   "cell_type": "code",
   "execution_count": 45,
   "metadata": {},
   "outputs": [
    {
     "data": {
      "text/plain": [
       "['../label_af_download/trainingdataset-data-team_aois/naips/2012-06-29_naip_aoi0_bounds.tif',\n",
       " '../label_af_download/trainingdataset-data-team_aois/naips/2012-06-29_naip_aoi1_bounds.tif',\n",
       " '../label_af_download/trainingdataset-data-team_aois/naips/2012-06-29_naip_aoi2_bounds.tif',\n",
       " '../label_af_download/trainingdataset-data-team_aois/naips/2014-06-28_naip_aoi0_bounds.tif',\n",
       " '../label_af_download/trainingdataset-data-team_aois/naips/2014-06-28_naip_aoi2_bounds.tif',\n",
       " '../label_af_download/trainingdataset-data-team_aois/naips/2016-08-03_naip_aoi0_bounds.tif',\n",
       " '../label_af_download/trainingdataset-data-team_aois/naips/2016-08-03_naip_aoi2_bounds.tif',\n",
       " '../label_af_download/trainingdataset-data-team_aois/naips/2018-07-06_naip_aoi0_bounds.tif',\n",
       " '../label_af_download/trainingdataset-data-team_aois/naips/2018-07-07_naip_aoi2_bounds.tif']"
      ]
     },
     "execution_count": 45,
     "metadata": {},
     "output_type": "execute_result"
    }
   ],
   "source": [
    "images = sorted(glob.glob(image_path +\"/*.tif\"))\n",
    "images"
   ]
  },
  {
   "cell_type": "code",
   "execution_count": 46,
   "metadata": {},
   "outputs": [],
   "source": [
    "base_url = \"https://uvmlabels.blob.core.windows.net/\"\n",
    "label_key = \"labels4-data-team-aois\"\n",
    "image_key = \"naip4-data-team-aois\""
   ]
  },
  {
   "cell_type": "code",
   "execution_count": 54,
   "metadata": {},
   "outputs": [],
   "source": [
    "image_url = base_url + image_key\n",
    "label_url = base_url + label_key\n",
    "train_img = []\n",
    "train_label = []\n",
    "for img in images[:-2]:\n",
    "    basename = op.basename(img)\n",
    "    filezeor = op.splitext(basename)[0]\n",
    "    img_url = image_url + \"/\" + basename\n",
    "    lab_url = label_url + \"/\" + filezeor + \"_labels.tif\"\n",
    "    train_img.append(img_url)\n",
    "    train_label.append(lab_url)\n"
   ]
  },
  {
   "cell_type": "code",
   "execution_count": 55,
   "metadata": {},
   "outputs": [
    {
     "data": {
      "text/plain": [
       "['https://uvmlabels.blob.core.windows.net/naip4-data-team-aois/2012-06-29_naip_aoi0_bounds.tif',\n",
       " 'https://uvmlabels.blob.core.windows.net/naip4-data-team-aois/2012-06-29_naip_aoi1_bounds.tif',\n",
       " 'https://uvmlabels.blob.core.windows.net/naip4-data-team-aois/2012-06-29_naip_aoi2_bounds.tif',\n",
       " 'https://uvmlabels.blob.core.windows.net/naip4-data-team-aois/2014-06-28_naip_aoi0_bounds.tif',\n",
       " 'https://uvmlabels.blob.core.windows.net/naip4-data-team-aois/2014-06-28_naip_aoi2_bounds.tif',\n",
       " 'https://uvmlabels.blob.core.windows.net/naip4-data-team-aois/2016-08-03_naip_aoi0_bounds.tif',\n",
       " 'https://uvmlabels.blob.core.windows.net/naip4-data-team-aois/2016-08-03_naip_aoi2_bounds.tif']"
      ]
     },
     "execution_count": 55,
     "metadata": {},
     "output_type": "execute_result"
    }
   ],
   "source": [
    "train_img"
   ]
  },
  {
   "cell_type": "code",
   "execution_count": 56,
   "metadata": {},
   "outputs": [
    {
     "data": {
      "text/plain": [
       "['https://uvmlabels.blob.core.windows.net/labels4-data-team-aois/2012-06-29_naip_aoi0_bounds_labels.tif',\n",
       " 'https://uvmlabels.blob.core.windows.net/labels4-data-team-aois/2012-06-29_naip_aoi1_bounds_labels.tif',\n",
       " 'https://uvmlabels.blob.core.windows.net/labels4-data-team-aois/2012-06-29_naip_aoi2_bounds_labels.tif',\n",
       " 'https://uvmlabels.blob.core.windows.net/labels4-data-team-aois/2014-06-28_naip_aoi0_bounds_labels.tif',\n",
       " 'https://uvmlabels.blob.core.windows.net/labels4-data-team-aois/2014-06-28_naip_aoi2_bounds_labels.tif',\n",
       " 'https://uvmlabels.blob.core.windows.net/labels4-data-team-aois/2016-08-03_naip_aoi0_bounds_labels.tif',\n",
       " 'https://uvmlabels.blob.core.windows.net/labels4-data-team-aois/2016-08-03_naip_aoi2_bounds_labels.tif']"
      ]
     },
     "execution_count": 56,
     "metadata": {},
     "output_type": "execute_result"
    }
   ],
   "source": [
    "train_label"
   ]
  },
  {
   "cell_type": "code",
   "execution_count": 57,
   "metadata": {},
   "outputs": [
    {
     "data": {
      "text/html": [
       "<div>\n",
       "<style scoped>\n",
       "    .dataframe tbody tr th:only-of-type {\n",
       "        vertical-align: middle;\n",
       "    }\n",
       "\n",
       "    .dataframe tbody tr th {\n",
       "        vertical-align: top;\n",
       "    }\n",
       "\n",
       "    .dataframe thead th {\n",
       "        text-align: right;\n",
       "    }\n",
       "</style>\n",
       "<table border=\"1\" class=\"dataframe\">\n",
       "  <thead>\n",
       "    <tr style=\"text-align: right;\">\n",
       "      <th></th>\n",
       "      <th>image_fn</th>\n",
       "      <th>label_fn</th>\n",
       "      <th>group</th>\n",
       "    </tr>\n",
       "  </thead>\n",
       "  <tbody>\n",
       "    <tr>\n",
       "      <th>0</th>\n",
       "      <td>https://uvmlabels.blob.core.windows.net/naip4-...</td>\n",
       "      <td>https://uvmlabels.blob.core.windows.net/labels...</td>\n",
       "      <td>uvm</td>\n",
       "    </tr>\n",
       "    <tr>\n",
       "      <th>1</th>\n",
       "      <td>https://uvmlabels.blob.core.windows.net/naip4-...</td>\n",
       "      <td>https://uvmlabels.blob.core.windows.net/labels...</td>\n",
       "      <td>uvm</td>\n",
       "    </tr>\n",
       "    <tr>\n",
       "      <th>2</th>\n",
       "      <td>https://uvmlabels.blob.core.windows.net/naip4-...</td>\n",
       "      <td>https://uvmlabels.blob.core.windows.net/labels...</td>\n",
       "      <td>uvm</td>\n",
       "    </tr>\n",
       "    <tr>\n",
       "      <th>3</th>\n",
       "      <td>https://uvmlabels.blob.core.windows.net/naip4-...</td>\n",
       "      <td>https://uvmlabels.blob.core.windows.net/labels...</td>\n",
       "      <td>uvm</td>\n",
       "    </tr>\n",
       "    <tr>\n",
       "      <th>4</th>\n",
       "      <td>https://uvmlabels.blob.core.windows.net/naip4-...</td>\n",
       "      <td>https://uvmlabels.blob.core.windows.net/labels...</td>\n",
       "      <td>uvm</td>\n",
       "    </tr>\n",
       "    <tr>\n",
       "      <th>5</th>\n",
       "      <td>https://uvmlabels.blob.core.windows.net/naip4-...</td>\n",
       "      <td>https://uvmlabels.blob.core.windows.net/labels...</td>\n",
       "      <td>uvm</td>\n",
       "    </tr>\n",
       "    <tr>\n",
       "      <th>6</th>\n",
       "      <td>https://uvmlabels.blob.core.windows.net/naip4-...</td>\n",
       "      <td>https://uvmlabels.blob.core.windows.net/labels...</td>\n",
       "      <td>uvm</td>\n",
       "    </tr>\n",
       "  </tbody>\n",
       "</table>\n",
       "</div>"
      ],
      "text/plain": [
       "                                            image_fn  \\\n",
       "0  https://uvmlabels.blob.core.windows.net/naip4-...   \n",
       "1  https://uvmlabels.blob.core.windows.net/naip4-...   \n",
       "2  https://uvmlabels.blob.core.windows.net/naip4-...   \n",
       "3  https://uvmlabels.blob.core.windows.net/naip4-...   \n",
       "4  https://uvmlabels.blob.core.windows.net/naip4-...   \n",
       "5  https://uvmlabels.blob.core.windows.net/naip4-...   \n",
       "6  https://uvmlabels.blob.core.windows.net/naip4-...   \n",
       "\n",
       "                                            label_fn group  \n",
       "0  https://uvmlabels.blob.core.windows.net/labels...   uvm  \n",
       "1  https://uvmlabels.blob.core.windows.net/labels...   uvm  \n",
       "2  https://uvmlabels.blob.core.windows.net/labels...   uvm  \n",
       "3  https://uvmlabels.blob.core.windows.net/labels...   uvm  \n",
       "4  https://uvmlabels.blob.core.windows.net/labels...   uvm  \n",
       "5  https://uvmlabels.blob.core.windows.net/labels...   uvm  \n",
       "6  https://uvmlabels.blob.core.windows.net/labels...   uvm  "
      ]
     },
     "execution_count": 57,
     "metadata": {},
     "output_type": "execute_result"
    }
   ],
   "source": [
    "df_train['image_fn'] = train_img\n",
    "df_train[\"label_fn\"] = train_label\n",
    "df_train[\"group\"] = \"uvm\"\n",
    "df_train"
   ]
  },
  {
   "cell_type": "code",
   "execution_count": 58,
   "metadata": {},
   "outputs": [],
   "source": [
    "df_val['image_fn'] = \"https://uvmlabels.blob.core.windows.net/naip4-data-team-aois/2018-07-06_naip_aoi0_bounds.tif\"\n",
    "df_val[\"label_fn\"] = \"https://uvmlabels.blob.core.windows.net/labels4-data-team-aois/2018-07-06_naip_aoi0_bounds.tif\"\n",
    "df_val[\"group\"] = \"uvm\""
   ]
  },
  {
   "cell_type": "code",
   "execution_count": 59,
   "metadata": {},
   "outputs": [],
   "source": [
    "df_test['image_fn'] = \"https://uvmlabels.blob.core.windows.net/naip4-data-team-aois/2018-07-07_naip_aoi2_bounds.tif\"\n",
    "df_test[\"label_fn\"] = \"https://uvmlabels.blob.core.windows.net/labels4-data-team-aois/2018-07-07_naip_aoi2_bounds_labels.tif\"\n",
    "df_test[\"group\"] = \"uvm\""
   ]
  },
  {
   "cell_type": "code",
   "execution_count": 60,
   "metadata": {},
   "outputs": [],
   "source": [
    "df_train.to_csv(\"DevSeed_Data_created_train.csv\")\n",
    "df_val.to_csv(\"DevSeed_Data_created_val.csv\")\n",
    "df_test.to_csv(\"DevSeed_Data_created_test.csv\")"
   ]
  },
  {
   "cell_type": "code",
   "execution_count": 65,
   "metadata": {},
   "outputs": [],
   "source": [
    "midwest_train = \"../src/data/midwest_train_multi_year.csv\"\n",
    "midwest_val = \"../src/data/midwest_val_multi_year.csv\"\n",
    "midwest_test = \"../src/data/midwest_test_multi_year.csv\"\n",
    "midw_train = pd.read_csv(midwest_train)\n",
    "midw_val = pd.read_csv(midwest_val)\n",
    "midw_test = pd.read_csv(midwest_test)\n"
   ]
  },
  {
   "cell_type": "code",
   "execution_count": 62,
   "metadata": {},
   "outputs": [
    {
     "data": {
      "text/html": [
       "<div>\n",
       "<style scoped>\n",
       "    .dataframe tbody tr th:only-of-type {\n",
       "        vertical-align: middle;\n",
       "    }\n",
       "\n",
       "    .dataframe tbody tr th {\n",
       "        vertical-align: top;\n",
       "    }\n",
       "\n",
       "    .dataframe thead th {\n",
       "        text-align: right;\n",
       "    }\n",
       "</style>\n",
       "<table border=\"1\" class=\"dataframe\">\n",
       "  <thead>\n",
       "    <tr style=\"text-align: right;\">\n",
       "      <th></th>\n",
       "      <th>Unnamed: 0</th>\n",
       "      <th>Unnamed: 0.1</th>\n",
       "      <th>Unnamed: 0.1.1</th>\n",
       "      <th>Unnamed: 0.1.1.1</th>\n",
       "      <th>image_fn</th>\n",
       "      <th>label_fn</th>\n",
       "      <th>group</th>\n",
       "    </tr>\n",
       "  </thead>\n",
       "  <tbody>\n",
       "    <tr>\n",
       "      <th>0</th>\n",
       "      <td>0</td>\n",
       "      <td>0</td>\n",
       "      <td>0</td>\n",
       "      <td>2</td>\n",
       "      <td>https://naipblobs.blob.core.windows.net/naip/v...</td>\n",
       "      <td>https://uvmlabels.blob.core.windows.net/detroi...</td>\n",
       "      <td>umv_label</td>\n",
       "    </tr>\n",
       "    <tr>\n",
       "      <th>1</th>\n",
       "      <td>1</td>\n",
       "      <td>1</td>\n",
       "      <td>1</td>\n",
       "      <td>26</td>\n",
       "      <td>https://naipblobs.blob.core.windows.net/naip/v...</td>\n",
       "      <td>https://uvmlabels.blob.core.windows.net/detroi...</td>\n",
       "      <td>umv_label</td>\n",
       "    </tr>\n",
       "    <tr>\n",
       "      <th>2</th>\n",
       "      <td>2</td>\n",
       "      <td>2</td>\n",
       "      <td>2</td>\n",
       "      <td>13</td>\n",
       "      <td>https://naipblobs.blob.core.windows.net/naip/v...</td>\n",
       "      <td>https://uvmlabels.blob.core.windows.net/detroi...</td>\n",
       "      <td>umv_label</td>\n",
       "    </tr>\n",
       "    <tr>\n",
       "      <th>3</th>\n",
       "      <td>3</td>\n",
       "      <td>3</td>\n",
       "      <td>3</td>\n",
       "      <td>16</td>\n",
       "      <td>https://naipblobs.blob.core.windows.net/naip/v...</td>\n",
       "      <td>https://uvmlabels.blob.core.windows.net/detroi...</td>\n",
       "      <td>umv_label</td>\n",
       "    </tr>\n",
       "    <tr>\n",
       "      <th>4</th>\n",
       "      <td>4</td>\n",
       "      <td>4</td>\n",
       "      <td>4</td>\n",
       "      <td>4</td>\n",
       "      <td>https://naipblobs.blob.core.windows.net/naip/v...</td>\n",
       "      <td>https://uvmlabels.blob.core.windows.net/detroi...</td>\n",
       "      <td>umv_label</td>\n",
       "    </tr>\n",
       "  </tbody>\n",
       "</table>\n",
       "</div>"
      ],
      "text/plain": [
       "   Unnamed: 0  Unnamed: 0.1  Unnamed: 0.1.1  Unnamed: 0.1.1.1  \\\n",
       "0           0             0               0                 2   \n",
       "1           1             1               1                26   \n",
       "2           2             2               2                13   \n",
       "3           3             3               3                16   \n",
       "4           4             4               4                 4   \n",
       "\n",
       "                                            image_fn  \\\n",
       "0  https://naipblobs.blob.core.windows.net/naip/v...   \n",
       "1  https://naipblobs.blob.core.windows.net/naip/v...   \n",
       "2  https://naipblobs.blob.core.windows.net/naip/v...   \n",
       "3  https://naipblobs.blob.core.windows.net/naip/v...   \n",
       "4  https://naipblobs.blob.core.windows.net/naip/v...   \n",
       "\n",
       "                                            label_fn      group  \n",
       "0  https://uvmlabels.blob.core.windows.net/detroi...  umv_label  \n",
       "1  https://uvmlabels.blob.core.windows.net/detroi...  umv_label  \n",
       "2  https://uvmlabels.blob.core.windows.net/detroi...  umv_label  \n",
       "3  https://uvmlabels.blob.core.windows.net/detroi...  umv_label  \n",
       "4  https://uvmlabels.blob.core.windows.net/detroi...  umv_label  "
      ]
     },
     "execution_count": 62,
     "metadata": {},
     "output_type": "execute_result"
    }
   ],
   "source": [
    "midw_train.head()"
   ]
  },
  {
   "cell_type": "code",
   "execution_count": 66,
   "metadata": {},
   "outputs": [
    {
     "data": {
      "text/html": [
       "<div>\n",
       "<style scoped>\n",
       "    .dataframe tbody tr th:only-of-type {\n",
       "        vertical-align: middle;\n",
       "    }\n",
       "\n",
       "    .dataframe tbody tr th {\n",
       "        vertical-align: top;\n",
       "    }\n",
       "\n",
       "    .dataframe thead th {\n",
       "        text-align: right;\n",
       "    }\n",
       "</style>\n",
       "<table border=\"1\" class=\"dataframe\">\n",
       "  <thead>\n",
       "    <tr style=\"text-align: right;\">\n",
       "      <th></th>\n",
       "      <th>image_fn</th>\n",
       "      <th>label_fn</th>\n",
       "      <th>group</th>\n",
       "    </tr>\n",
       "  </thead>\n",
       "  <tbody>\n",
       "    <tr>\n",
       "      <th>0</th>\n",
       "      <td>https://naipblobs.blob.core.windows.net/naip/v...</td>\n",
       "      <td>https://uvmlabels.blob.core.windows.net/detroi...</td>\n",
       "      <td>umv_label</td>\n",
       "    </tr>\n",
       "    <tr>\n",
       "      <th>1</th>\n",
       "      <td>https://naipblobs.blob.core.windows.net/naip/v...</td>\n",
       "      <td>https://uvmlabels.blob.core.windows.net/detroi...</td>\n",
       "      <td>umv_label</td>\n",
       "    </tr>\n",
       "    <tr>\n",
       "      <th>2</th>\n",
       "      <td>https://naipblobs.blob.core.windows.net/naip/v...</td>\n",
       "      <td>https://uvmlabels.blob.core.windows.net/detroi...</td>\n",
       "      <td>umv_label</td>\n",
       "    </tr>\n",
       "    <tr>\n",
       "      <th>3</th>\n",
       "      <td>https://naipblobs.blob.core.windows.net/naip/v...</td>\n",
       "      <td>https://uvmlabels.blob.core.windows.net/detroi...</td>\n",
       "      <td>umv_label</td>\n",
       "    </tr>\n",
       "    <tr>\n",
       "      <th>4</th>\n",
       "      <td>https://naipblobs.blob.core.windows.net/naip/v...</td>\n",
       "      <td>https://uvmlabels.blob.core.windows.net/detroi...</td>\n",
       "      <td>umv_label</td>\n",
       "    </tr>\n",
       "  </tbody>\n",
       "</table>\n",
       "</div>"
      ],
      "text/plain": [
       "                                            image_fn  \\\n",
       "0  https://naipblobs.blob.core.windows.net/naip/v...   \n",
       "1  https://naipblobs.blob.core.windows.net/naip/v...   \n",
       "2  https://naipblobs.blob.core.windows.net/naip/v...   \n",
       "3  https://naipblobs.blob.core.windows.net/naip/v...   \n",
       "4  https://naipblobs.blob.core.windows.net/naip/v...   \n",
       "\n",
       "                                            label_fn      group  \n",
       "0  https://uvmlabels.blob.core.windows.net/detroi...  umv_label  \n",
       "1  https://uvmlabels.blob.core.windows.net/detroi...  umv_label  \n",
       "2  https://uvmlabels.blob.core.windows.net/detroi...  umv_label  \n",
       "3  https://uvmlabels.blob.core.windows.net/detroi...  umv_label  \n",
       "4  https://uvmlabels.blob.core.windows.net/detroi...  umv_label  "
      ]
     },
     "execution_count": 66,
     "metadata": {},
     "output_type": "execute_result"
    }
   ],
   "source": [
    "midw_train = midw_train[[\"image_fn\", \"label_fn\", \"group\"]]\n",
    "midw_val = midw_val[[\"image_fn\", \"label_fn\", \"group\"]]\n",
    "midw_test = midw_test[[\"image_fn\", \"label_fn\", \"group\"]]\n",
    "midw_train.head()"
   ]
  },
  {
   "cell_type": "code",
   "execution_count": 68,
   "metadata": {},
   "outputs": [
    {
     "data": {
      "text/html": [
       "<div>\n",
       "<style scoped>\n",
       "    .dataframe tbody tr th:only-of-type {\n",
       "        vertical-align: middle;\n",
       "    }\n",
       "\n",
       "    .dataframe tbody tr th {\n",
       "        vertical-align: top;\n",
       "    }\n",
       "\n",
       "    .dataframe thead th {\n",
       "        text-align: right;\n",
       "    }\n",
       "</style>\n",
       "<table border=\"1\" class=\"dataframe\">\n",
       "  <thead>\n",
       "    <tr style=\"text-align: right;\">\n",
       "      <th></th>\n",
       "      <th>image_fn</th>\n",
       "      <th>label_fn</th>\n",
       "      <th>group</th>\n",
       "    </tr>\n",
       "  </thead>\n",
       "  <tbody>\n",
       "    <tr>\n",
       "      <th>0</th>\n",
       "      <td>https://uvmlabels.blob.core.windows.net/naip4-...</td>\n",
       "      <td>https://uvmlabels.blob.core.windows.net/labels...</td>\n",
       "      <td>uvm</td>\n",
       "    </tr>\n",
       "    <tr>\n",
       "      <th>1</th>\n",
       "      <td>https://uvmlabels.blob.core.windows.net/naip4-...</td>\n",
       "      <td>https://uvmlabels.blob.core.windows.net/labels...</td>\n",
       "      <td>uvm</td>\n",
       "    </tr>\n",
       "    <tr>\n",
       "      <th>2</th>\n",
       "      <td>https://uvmlabels.blob.core.windows.net/naip4-...</td>\n",
       "      <td>https://uvmlabels.blob.core.windows.net/labels...</td>\n",
       "      <td>uvm</td>\n",
       "    </tr>\n",
       "    <tr>\n",
       "      <th>3</th>\n",
       "      <td>https://uvmlabels.blob.core.windows.net/naip4-...</td>\n",
       "      <td>https://uvmlabels.blob.core.windows.net/labels...</td>\n",
       "      <td>uvm</td>\n",
       "    </tr>\n",
       "    <tr>\n",
       "      <th>4</th>\n",
       "      <td>https://uvmlabels.blob.core.windows.net/naip4-...</td>\n",
       "      <td>https://uvmlabels.blob.core.windows.net/labels...</td>\n",
       "      <td>uvm</td>\n",
       "    </tr>\n",
       "  </tbody>\n",
       "</table>\n",
       "</div>"
      ],
      "text/plain": [
       "                                            image_fn  \\\n",
       "0  https://uvmlabels.blob.core.windows.net/naip4-...   \n",
       "1  https://uvmlabels.blob.core.windows.net/naip4-...   \n",
       "2  https://uvmlabels.blob.core.windows.net/naip4-...   \n",
       "3  https://uvmlabels.blob.core.windows.net/naip4-...   \n",
       "4  https://uvmlabels.blob.core.windows.net/naip4-...   \n",
       "\n",
       "                                            label_fn group  \n",
       "0  https://uvmlabels.blob.core.windows.net/labels...   uvm  \n",
       "1  https://uvmlabels.blob.core.windows.net/labels...   uvm  \n",
       "2  https://uvmlabels.blob.core.windows.net/labels...   uvm  \n",
       "3  https://uvmlabels.blob.core.windows.net/labels...   uvm  \n",
       "4  https://uvmlabels.blob.core.windows.net/labels...   uvm  "
      ]
     },
     "execution_count": 68,
     "metadata": {},
     "output_type": "execute_result"
    }
   ],
   "source": [
    "midwest_data_train = pd.concat([df_train, midw_train])\n",
    "midwest_data_train['group'] = \"uvm\"\n",
    "\n",
    "midwest_data_val = pd.concat([df_val, midw_val])\n",
    "midwest_data_val['group'] = \"uvm\" \n",
    "\n",
    "midwest_data_test = pd.concat([df_test, midw_test])\n",
    "midwest_data_test['group'] = \"uvm\" \n",
    "midwest_data_train.head()\n"
   ]
  },
  {
   "cell_type": "code",
   "execution_count": 69,
   "metadata": {},
   "outputs": [
    {
     "data": {
      "text/html": [
       "<div>\n",
       "<style scoped>\n",
       "    .dataframe tbody tr th:only-of-type {\n",
       "        vertical-align: middle;\n",
       "    }\n",
       "\n",
       "    .dataframe tbody tr th {\n",
       "        vertical-align: top;\n",
       "    }\n",
       "\n",
       "    .dataframe thead th {\n",
       "        text-align: right;\n",
       "    }\n",
       "</style>\n",
       "<table border=\"1\" class=\"dataframe\">\n",
       "  <thead>\n",
       "    <tr style=\"text-align: right;\">\n",
       "      <th></th>\n",
       "      <th>image_fn</th>\n",
       "      <th>label_fn</th>\n",
       "      <th>group</th>\n",
       "    </tr>\n",
       "  </thead>\n",
       "  <tbody>\n",
       "    <tr>\n",
       "      <th>0</th>\n",
       "      <td>https://naipblobs.blob.core.windows.net/naip/v...</td>\n",
       "      <td>https://uvmlabels.blob.core.windows.net/detroi...</td>\n",
       "      <td>uvm</td>\n",
       "    </tr>\n",
       "    <tr>\n",
       "      <th>1</th>\n",
       "      <td>https://naipblobs.blob.core.windows.net/naip/v...</td>\n",
       "      <td>https://uvmlabels.blob.core.windows.net/detroi...</td>\n",
       "      <td>uvm</td>\n",
       "    </tr>\n",
       "    <tr>\n",
       "      <th>2</th>\n",
       "      <td>https://naipblobs.blob.core.windows.net/naip/v...</td>\n",
       "      <td>https://uvmlabels.blob.core.windows.net/detroi...</td>\n",
       "      <td>uvm</td>\n",
       "    </tr>\n",
       "    <tr>\n",
       "      <th>3</th>\n",
       "      <td>https://naipblobs.blob.core.windows.net/naip/v...</td>\n",
       "      <td>https://uvmlabels.blob.core.windows.net/detroi...</td>\n",
       "      <td>uvm</td>\n",
       "    </tr>\n",
       "    <tr>\n",
       "      <th>4</th>\n",
       "      <td>https://naipblobs.blob.core.windows.net/naip/v...</td>\n",
       "      <td>https://uvmlabels.blob.core.windows.net/detroi...</td>\n",
       "      <td>uvm</td>\n",
       "    </tr>\n",
       "  </tbody>\n",
       "</table>\n",
       "</div>"
      ],
      "text/plain": [
       "                                            image_fn  \\\n",
       "0  https://naipblobs.blob.core.windows.net/naip/v...   \n",
       "1  https://naipblobs.blob.core.windows.net/naip/v...   \n",
       "2  https://naipblobs.blob.core.windows.net/naip/v...   \n",
       "3  https://naipblobs.blob.core.windows.net/naip/v...   \n",
       "4  https://naipblobs.blob.core.windows.net/naip/v...   \n",
       "\n",
       "                                            label_fn group  \n",
       "0  https://uvmlabels.blob.core.windows.net/detroi...   uvm  \n",
       "1  https://uvmlabels.blob.core.windows.net/detroi...   uvm  \n",
       "2  https://uvmlabels.blob.core.windows.net/detroi...   uvm  \n",
       "3  https://uvmlabels.blob.core.windows.net/detroi...   uvm  \n",
       "4  https://uvmlabels.blob.core.windows.net/detroi...   uvm  "
      ]
     },
     "execution_count": 69,
     "metadata": {},
     "output_type": "execute_result"
    }
   ],
   "source": [
    "midwest_data_val.head()"
   ]
  },
  {
   "cell_type": "code",
   "execution_count": 70,
   "metadata": {},
   "outputs": [
    {
     "data": {
      "text/html": [
       "<div>\n",
       "<style scoped>\n",
       "    .dataframe tbody tr th:only-of-type {\n",
       "        vertical-align: middle;\n",
       "    }\n",
       "\n",
       "    .dataframe tbody tr th {\n",
       "        vertical-align: top;\n",
       "    }\n",
       "\n",
       "    .dataframe thead th {\n",
       "        text-align: right;\n",
       "    }\n",
       "</style>\n",
       "<table border=\"1\" class=\"dataframe\">\n",
       "  <thead>\n",
       "    <tr style=\"text-align: right;\">\n",
       "      <th></th>\n",
       "      <th>image_fn</th>\n",
       "      <th>label_fn</th>\n",
       "      <th>group</th>\n",
       "    </tr>\n",
       "  </thead>\n",
       "  <tbody>\n",
       "    <tr>\n",
       "      <th>0</th>\n",
       "      <td>https://naipblobs.blob.core.windows.net/naip/v...</td>\n",
       "      <td>https://uvmlabels.blob.core.windows.net/detroi...</td>\n",
       "      <td>uvm</td>\n",
       "    </tr>\n",
       "    <tr>\n",
       "      <th>1</th>\n",
       "      <td>https://naipblobs.blob.core.windows.net/naip/v...</td>\n",
       "      <td>https://uvmlabels.blob.core.windows.net/detroi...</td>\n",
       "      <td>uvm</td>\n",
       "    </tr>\n",
       "    <tr>\n",
       "      <th>2</th>\n",
       "      <td>https://naipblobs.blob.core.windows.net/naip/v...</td>\n",
       "      <td>https://uvmlabels.blob.core.windows.net/detroi...</td>\n",
       "      <td>uvm</td>\n",
       "    </tr>\n",
       "    <tr>\n",
       "      <th>3</th>\n",
       "      <td>https://naipblobs.blob.core.windows.net/naip/v...</td>\n",
       "      <td>https://uvmlabels.blob.core.windows.net/detroi...</td>\n",
       "      <td>uvm</td>\n",
       "    </tr>\n",
       "    <tr>\n",
       "      <th>4</th>\n",
       "      <td>https://naipblobs.blob.core.windows.net/naip/v...</td>\n",
       "      <td>https://uvmlabels.blob.core.windows.net/cuyaho...</td>\n",
       "      <td>uvm</td>\n",
       "    </tr>\n",
       "  </tbody>\n",
       "</table>\n",
       "</div>"
      ],
      "text/plain": [
       "                                            image_fn  \\\n",
       "0  https://naipblobs.blob.core.windows.net/naip/v...   \n",
       "1  https://naipblobs.blob.core.windows.net/naip/v...   \n",
       "2  https://naipblobs.blob.core.windows.net/naip/v...   \n",
       "3  https://naipblobs.blob.core.windows.net/naip/v...   \n",
       "4  https://naipblobs.blob.core.windows.net/naip/v...   \n",
       "\n",
       "                                            label_fn group  \n",
       "0  https://uvmlabels.blob.core.windows.net/detroi...   uvm  \n",
       "1  https://uvmlabels.blob.core.windows.net/detroi...   uvm  \n",
       "2  https://uvmlabels.blob.core.windows.net/detroi...   uvm  \n",
       "3  https://uvmlabels.blob.core.windows.net/detroi...   uvm  \n",
       "4  https://uvmlabels.blob.core.windows.net/cuyaho...   uvm  "
      ]
     },
     "execution_count": 70,
     "metadata": {},
     "output_type": "execute_result"
    }
   ],
   "source": [
    "midwest_data_test.head()"
   ]
  },
  {
   "cell_type": "code",
   "execution_count": 71,
   "metadata": {},
   "outputs": [
    {
     "data": {
      "text/plain": [
       "(24, 46, 167)"
      ]
     },
     "execution_count": 71,
     "metadata": {},
     "output_type": "execute_result"
    }
   ],
   "source": [
    "len(midwest_data_test), len(midwest_data_val), len(midwest_data_train)"
   ]
  },
  {
   "cell_type": "code",
   "execution_count": 72,
   "metadata": {},
   "outputs": [],
   "source": [
    "midwest_data_train.to_csv(\"../src/data/midwest_n_devseed_train_multiple_years.csv\")\n",
    "midwest_data_val.to_csv(\"../src/data/midwest_n_devseed_val_multiple_years.csv\")\n",
    "midwest_data_test.to_csv(\"../src/data/midwest_n_devseed_test_multiple_years.csv\")"
   ]
  },
  {
   "cell_type": "code",
   "execution_count": null,
   "metadata": {},
   "outputs": [],
   "source": []
  }
 ],
 "metadata": {
  "interpreter": {
   "hash": "d98913f21c46af07a5e0f9f95dad536eb8e0fcf0c29a960fff7f9f173650b3e5"
  },
  "kernelspec": {
   "display_name": "Python 3 (ipykernel)",
   "language": "python",
   "name": "python3"
  },
  "language_info": {
   "codemirror_mode": {
    "name": "ipython",
    "version": 3
   },
   "file_extension": ".py",
   "mimetype": "text/x-python",
   "name": "python",
   "nbconvert_exporter": "python",
   "pygments_lexer": "ipython3",
   "version": "3.9.10"
  }
 },
 "nbformat": 4,
 "nbformat_minor": 4
}
